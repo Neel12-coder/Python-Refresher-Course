{
  "nbformat": 4,
  "nbformat_minor": 0,
  "metadata": {
    "colab": {
      "name": "Lists.ipynb",
      "provenance": [],
      "authorship_tag": "ABX9TyPk+RaayAwrkqeb441jHTjs",
      "include_colab_link": true
    },
    "kernelspec": {
      "name": "python3",
      "display_name": "Python 3"
    },
    "language_info": {
      "name": "python"
    }
  },
  "cells": [
    {
      "cell_type": "markdown",
      "metadata": {
        "id": "view-in-github",
        "colab_type": "text"
      },
      "source": [
        "<a href=\"https://colab.research.google.com/github/Neel12-coder/Python-Refresher-Course/blob/main/Lists.ipynb\" target=\"_parent\"><img src=\"https://colab.research.google.com/assets/colab-badge.svg\" alt=\"Open In Colab\"/></a>"
      ]
    },
    {
      "cell_type": "markdown",
      "metadata": {
        "id": "17uxaMwdwKLw"
      },
      "source": [
        "# Lists\n",
        "list can store anything\n",
        "\n",
        "\n"
      ]
    },
    {
      "cell_type": "code",
      "metadata": {
        "colab": {
          "base_uri": "https://localhost:8080/"
        },
        "id": "9DUGH2IswUp3",
        "outputId": "28598ae3-a51e-49db-e5b2-2f2c771c67c7"
      },
      "source": [
        "def first():\n",
        "  return 4\n",
        "\n",
        "def second():\n",
        "  return \"Hello\"\n",
        "\n",
        "lst = [\"a\",\"b\",1,[1,2,3],{\"Neelam\":1,\"Ronit\":2},first,second()]\n",
        "\n",
        "print(lst)\n",
        "\n",
        "#you store a function, call a func, store dict, list ,... anything in list"
      ],
      "execution_count": 3,
      "outputs": [
        {
          "output_type": "stream",
          "text": [
            "['a', 'b', 1, [1, 2, 3], {'Neelam': 1, 'Ronit': 2}, <function first at 0x7f099bd894d0>, 'Hello']\n"
          ],
          "name": "stdout"
        }
      ]
    },
    {
      "cell_type": "markdown",
      "metadata": {
        "id": "oM-VnBPIxE5u"
      },
      "source": [
        "#List aliasing and Copying List"
      ]
    },
    {
      "cell_type": "code",
      "metadata": {
        "colab": {
          "base_uri": "https://localhost:8080/"
        },
        "id": "Znm2lhs_wvA5",
        "outputId": "a89ad945-313e-4355-c7f6-0903562b30f0"
      },
      "source": [
        "list1= [1,2,3,'a']\n",
        "list2= list1  #aliasing.............referring to same\n",
        "list3= list1.copy() #vopying\n",
        "\n",
        "print(list2)\n",
        "print(list3)"
      ],
      "execution_count": 4,
      "outputs": [
        {
          "output_type": "stream",
          "text": [
            "[1, 2, 3, 'a']\n",
            "[1, 2, 3, 'a']\n"
          ],
          "name": "stdout"
        }
      ]
    },
    {
      "cell_type": "markdown",
      "metadata": {
        "id": "HVagn6Wqx84U"
      },
      "source": [
        "#List Functions"
      ]
    },
    {
      "cell_type": "code",
      "metadata": {
        "colab": {
          "base_uri": "https://localhost:8080/"
        },
        "id": "t9MFmgHFx00t",
        "outputId": "16da7a4a-1ce2-4679-e5ca-2f4ea6e16fcf"
      },
      "source": [
        "lst1 = [1,2,3]\n",
        "lst2 = [3,4,5]\n",
        "lst1.append(lst2)\n",
        "print(lst1)\n",
        "lst1.extend(lst2)\n",
        "print(lst1)\n",
        "\n",
        "print(lst1.pop())\n",
        "\n",
        "lst2.remove(3)\n",
        "print(lst2)\n"
      ],
      "execution_count": 14,
      "outputs": [
        {
          "output_type": "stream",
          "text": [
            "[1, 2, 3, [3, 4, 5]]\n",
            "[1, 2, 3, [3, 4, 5], 3, 4, 5]\n",
            "5\n",
            "[4, 5]\n"
          ],
          "name": "stdout"
        }
      ]
    },
    {
      "cell_type": "code",
      "metadata": {
        "colab": {
          "base_uri": "https://localhost:8080/"
        },
        "id": "M89CB3sALAAU",
        "outputId": "739510a9-0b23-4328-eddc-def0e311f937"
      },
      "source": [
        "lst1.count(2)\n",
        "print(lst1)"
      ],
      "execution_count": 15,
      "outputs": [
        {
          "output_type": "stream",
          "text": [
            "[1, 2, 3, [4, 5], 3, 4]\n"
          ],
          "name": "stdout"
        }
      ]
    },
    {
      "cell_type": "code",
      "metadata": {
        "colab": {
          "base_uri": "https://localhost:8080/"
        },
        "id": "UAsqolI1Ls-_",
        "outputId": "2943cc59-870d-4b82-b9b3-535b591699a3"
      },
      "source": [
        "lst2.sort(reverse=True)\n",
        "print(lst2)"
      ],
      "execution_count": 16,
      "outputs": [
        {
          "output_type": "stream",
          "text": [
            "[5, 4]\n"
          ],
          "name": "stdout"
        }
      ]
    },
    {
      "cell_type": "code",
      "metadata": {
        "colab": {
          "base_uri": "https://localhost:8080/"
        },
        "id": "pon_1CLyL1Zw",
        "outputId": "e4302eff-05f3-46f1-82a2-26438fbba975"
      },
      "source": [
        "lst1.pop(3)\n",
        "print(lst1)"
      ],
      "execution_count": 17,
      "outputs": [
        {
          "output_type": "stream",
          "text": [
            "[1, 2, 3, 3, 4]\n"
          ],
          "name": "stdout"
        }
      ]
    },
    {
      "cell_type": "code",
      "metadata": {
        "colab": {
          "base_uri": "https://localhost:8080/"
        },
        "id": "9uLkYLwzL_9r",
        "outputId": "b29f4b7e-ad01-4caa-8ce3-3292a13ecc38"
      },
      "source": [
        "lst1.reverse()\n",
        "print(lst1)"
      ],
      "execution_count": 18,
      "outputs": [
        {
          "output_type": "stream",
          "text": [
            "[4, 3, 3, 2, 1]\n"
          ],
          "name": "stdout"
        }
      ]
    },
    {
      "cell_type": "code",
      "metadata": {
        "colab": {
          "base_uri": "https://localhost:8080/"
        },
        "id": "tLarBVKXMiSq",
        "outputId": "4252c2fe-e8f3-4ebb-c236-9dc3da905004"
      },
      "source": [
        "max(lst1)"
      ],
      "execution_count": 19,
      "outputs": [
        {
          "output_type": "execute_result",
          "data": {
            "text/plain": [
              "4"
            ]
          },
          "metadata": {
            "tags": []
          },
          "execution_count": 19
        }
      ]
    },
    {
      "cell_type": "code",
      "metadata": {
        "colab": {
          "base_uri": "https://localhost:8080/"
        },
        "id": "rYefZN_0MldU",
        "outputId": "9757337e-d94b-448e-b0b2-238530138159"
      },
      "source": [
        "min(lst2)"
      ],
      "execution_count": 20,
      "outputs": [
        {
          "output_type": "execute_result",
          "data": {
            "text/plain": [
              "4"
            ]
          },
          "metadata": {
            "tags": []
          },
          "execution_count": 20
        }
      ]
    },
    {
      "cell_type": "code",
      "metadata": {
        "colab": {
          "base_uri": "https://localhost:8080/"
        },
        "id": "LKvtgT_CMnLD",
        "outputId": "707fbbd8-867b-4158-ab2f-0cc72c7dfc80"
      },
      "source": [
        "min(lst1)"
      ],
      "execution_count": 21,
      "outputs": [
        {
          "output_type": "execute_result",
          "data": {
            "text/plain": [
              "1"
            ]
          },
          "metadata": {
            "tags": []
          },
          "execution_count": 21
        }
      ]
    },
    {
      "cell_type": "code",
      "metadata": {
        "colab": {
          "base_uri": "https://localhost:8080/"
        },
        "id": "YXjrJsXHMpdJ",
        "outputId": "3b6c135b-5f0e-4bae-a87a-136632a26f54"
      },
      "source": [
        "sum(lst1)"
      ],
      "execution_count": 22,
      "outputs": [
        {
          "output_type": "execute_result",
          "data": {
            "text/plain": [
              "13"
            ]
          },
          "metadata": {
            "tags": []
          },
          "execution_count": 22
        }
      ]
    },
    {
      "cell_type": "code",
      "metadata": {
        "id": "gtj4QA1HMr5D"
      },
      "source": [
        "lst2.clear()"
      ],
      "execution_count": 24,
      "outputs": []
    },
    {
      "cell_type": "code",
      "metadata": {
        "colab": {
          "base_uri": "https://localhost:8080/"
        },
        "id": "Ob8H24MXMtvM",
        "outputId": "4169ac1a-b8c8-4529-f57b-90b1308df74b"
      },
      "source": [
        "print(lst2)"
      ],
      "execution_count": 25,
      "outputs": [
        {
          "output_type": "stream",
          "text": [
            "[]\n"
          ],
          "name": "stdout"
        }
      ]
    },
    {
      "cell_type": "code",
      "metadata": {
        "colab": {
          "base_uri": "https://localhost:8080/"
        },
        "id": "jQTLhYRgM0RV",
        "outputId": "6ed5cc6a-077e-4393-9116-48393da30258"
      },
      "source": [
        "lst1.index(4)"
      ],
      "execution_count": 27,
      "outputs": [
        {
          "output_type": "execute_result",
          "data": {
            "text/plain": [
              "0"
            ]
          },
          "metadata": {
            "tags": []
          },
          "execution_count": 27
        }
      ]
    },
    {
      "cell_type": "code",
      "metadata": {
        "id": "xgQuR8HwM3_z"
      },
      "source": [
        "lst1.insert(3,1)"
      ],
      "execution_count": 31,
      "outputs": []
    },
    {
      "cell_type": "code",
      "metadata": {
        "colab": {
          "base_uri": "https://localhost:8080/"
        },
        "id": "cv4skfd0M_B6",
        "outputId": "58c10b09-1580-4b6a-b6a4-8946801203d7"
      },
      "source": [
        "print(lst1)"
      ],
      "execution_count": 32,
      "outputs": [
        {
          "output_type": "stream",
          "text": [
            "[4, 3, 3, 1, 2, 1, 1]\n"
          ],
          "name": "stdout"
        }
      ]
    },
    {
      "cell_type": "markdown",
      "metadata": {
        "id": "UkklVti2NQSR"
      },
      "source": [
        "#Nested Lists"
      ]
    },
    {
      "cell_type": "code",
      "metadata": {
        "id": "Xhxu0EbJNEpZ"
      },
      "source": [
        "matrix_1 =[[1,2,3],\n",
        "           [3,4,5],]\n",
        "matrix_2 = [3*[1] for x in range(2)]"
      ],
      "execution_count": 38,
      "outputs": []
    },
    {
      "cell_type": "code",
      "metadata": {
        "colab": {
          "base_uri": "https://localhost:8080/"
        },
        "id": "kwO1ej95NnvW",
        "outputId": "e17123ce-8c6b-4c60-ecd4-1bfa6fcb8c7d"
      },
      "source": [
        "print(matrix_2)"
      ],
      "execution_count": 39,
      "outputs": [
        {
          "output_type": "stream",
          "text": [
            "[[1, 1, 1], [1, 1, 1]]\n"
          ],
          "name": "stdout"
        }
      ]
    },
    {
      "cell_type": "code",
      "metadata": {
        "id": "dTwpGpzDNpiC"
      },
      "source": [
        "matrix_3 = matrix_1 + matrix_2 #concatenates"
      ],
      "execution_count": 40,
      "outputs": []
    },
    {
      "cell_type": "code",
      "metadata": {
        "colab": {
          "base_uri": "https://localhost:8080/"
        },
        "id": "QePAYBpbN1uZ",
        "outputId": "5dddd3f5-9de2-40ec-850e-6d324675803e"
      },
      "source": [
        "print(matrix_3)"
      ],
      "execution_count": 41,
      "outputs": [
        {
          "output_type": "stream",
          "text": [
            "[[1, 2, 3], [3, 4, 5], [1, 1, 1], [1, 1, 1]]\n"
          ],
          "name": "stdout"
        }
      ]
    },
    {
      "cell_type": "code",
      "metadata": {
        "id": "o5_SmxhwN3n8"
      },
      "source": [
        " "
      ],
      "execution_count": null,
      "outputs": []
    }
  ]
}