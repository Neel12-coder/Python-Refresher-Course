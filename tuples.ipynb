{
  "nbformat": 4,
  "nbformat_minor": 0,
  "metadata": {
    "colab": {
      "name": "tuples.ipynb",
      "provenance": [],
      "authorship_tag": "ABX9TyPOWiJvJlfToa5pMBNarr4/",
      "include_colab_link": true
    },
    "kernelspec": {
      "name": "python3",
      "display_name": "Python 3"
    },
    "language_info": {
      "name": "python"
    }
  },
  "cells": [
    {
      "cell_type": "markdown",
      "metadata": {
        "id": "view-in-github",
        "colab_type": "text"
      },
      "source": [
        "<a href=\"https://colab.research.google.com/github/Neel12-coder/Python-Refresher-Course/blob/main/tuples.ipynb\" target=\"_parent\"><img src=\"https://colab.research.google.com/assets/colab-badge.svg\" alt=\"Open In Colab\"/></a>"
      ]
    },
    {
      "cell_type": "markdown",
      "metadata": {
        "id": "P8nRKNcOApg-"
      },
      "source": [
        "#Tuples\n",
        "\n",
        "tuples are immutable,\n",
        "can store ele of different dtypes\n"
      ]
    },
    {
      "cell_type": "code",
      "metadata": {
        "id": "N80CWM5AA9SI"
      },
      "source": [
        "a = tuple(\"abc\")"
      ],
      "execution_count": 4,
      "outputs": []
    },
    {
      "cell_type": "code",
      "metadata": {
        "colab": {
          "base_uri": "https://localhost:8080/"
        },
        "id": "ERO_p9dmBCoe",
        "outputId": "56c6236e-95c9-4cfc-e842-aa4528e68460"
      },
      "source": [
        "print(type(a))\n",
        "print(a)"
      ],
      "execution_count": 5,
      "outputs": [
        {
          "output_type": "stream",
          "text": [
            "<class 'tuple'>\n",
            "('a', 'b', 'c')\n"
          ],
          "name": "stdout"
        }
      ]
    },
    {
      "cell_type": "code",
      "metadata": {
        "colab": {
          "base_uri": "https://localhost:8080/"
        },
        "id": "GKp2Mp6tBEzR",
        "outputId": "0c931ced-494c-44b7-b2e9-3ceddfd76d62"
      },
      "source": [
        "tple =(\"abc\")\n",
        "print(type(tple))"
      ],
      "execution_count": 6,
      "outputs": [
        {
          "output_type": "stream",
          "text": [
            "<class 'str'>\n"
          ],
          "name": "stdout"
        }
      ]
    },
    {
      "cell_type": "code",
      "metadata": {
        "colab": {
          "base_uri": "https://localhost:8080/"
        },
        "id": "ZLWnPPReBUdP",
        "outputId": "8c88229f-5e66-4130-a45d-203e4ccbad78"
      },
      "source": [
        "#to make tuple of one ele\n",
        "tple=(\"abc\",)\n",
        "print(type(tple))"
      ],
      "execution_count": 7,
      "outputs": [
        {
          "output_type": "stream",
          "text": [
            "<class 'tuple'>\n"
          ],
          "name": "stdout"
        }
      ]
    },
    {
      "cell_type": "code",
      "metadata": {
        "colab": {
          "base_uri": "https://localhost:8080/"
        },
        "id": "XSDOXarTBc9k",
        "outputId": "9a19c70b-fa95-4419-b02a-d10a90af773a"
      },
      "source": [
        "dom = (\"jan\",\"feb\",\"mar\",\"apr\",\"may\",\"jun\",\"jul\",\"aug\",\"sep\",\"oct\",\"nov\",\"dec\")\n",
        "print(dom[1:6])"
      ],
      "execution_count": 8,
      "outputs": [
        {
          "output_type": "stream",
          "text": [
            "('feb', 'mar', 'apr', 'may', 'jun')\n"
          ],
          "name": "stdout"
        }
      ]
    },
    {
      "cell_type": "code",
      "metadata": {
        "colab": {
          "base_uri": "https://localhost:8080/"
        },
        "id": "P5n1NjzWDHcH",
        "outputId": "d89f8405-d210-4f1d-9613-7d574d7df4c8"
      },
      "source": [
        "dom.count(\"mar\")"
      ],
      "execution_count": 11,
      "outputs": [
        {
          "output_type": "execute_result",
          "data": {
            "text/plain": [
              "1"
            ]
          },
          "metadata": {
            "tags": []
          },
          "execution_count": 11
        }
      ]
    },
    {
      "cell_type": "code",
      "metadata": {
        "colab": {
          "base_uri": "https://localhost:8080/"
        },
        "id": "RSMqNzw9DK03",
        "outputId": "8cdc4642-5205-4fbc-8875-86fe9a44cccf"
      },
      "source": [
        "dom.index(\"jun\")"
      ],
      "execution_count": 12,
      "outputs": [
        {
          "output_type": "execute_result",
          "data": {
            "text/plain": [
              "5"
            ]
          },
          "metadata": {
            "tags": []
          },
          "execution_count": 12
        }
      ]
    },
    {
      "cell_type": "code",
      "metadata": {
        "colab": {
          "base_uri": "https://localhost:8080/"
        },
        "id": "r0ij7hVYDdEm",
        "outputId": "dc3a15d6-84be-460a-bdb1-bdd0a59be2ad"
      },
      "source": [
        "a=sorted(dom)\n",
        "print(a)"
      ],
      "execution_count": 14,
      "outputs": [
        {
          "output_type": "stream",
          "text": [
            "['apr', 'aug', 'dec', 'feb', 'jan', 'jul', 'jun', 'mar', 'may', 'nov', 'oct', 'sep']\n"
          ],
          "name": "stdout"
        }
      ]
    },
    {
      "cell_type": "code",
      "metadata": {
        "colab": {
          "base_uri": "https://localhost:8080/"
        },
        "id": "PVo6y6mkDiBa",
        "outputId": "15e4ba96-241a-4662-87c3-20f59125e928"
      },
      "source": [
        "reversed(dom)"
      ],
      "execution_count": 15,
      "outputs": [
        {
          "output_type": "execute_result",
          "data": {
            "text/plain": [
              "<reversed at 0x7f850da6cd10>"
            ]
          },
          "metadata": {
            "tags": []
          },
          "execution_count": 15
        }
      ]
    },
    {
      "cell_type": "code",
      "metadata": {
        "colab": {
          "base_uri": "https://localhost:8080/"
        },
        "id": "6gwdgoW4DoaY",
        "outputId": "329fce93-db53-4a6c-f5df-99c10284dc88"
      },
      "source": [
        "print(dom)"
      ],
      "execution_count": 19,
      "outputs": [
        {
          "output_type": "stream",
          "text": [
            "('jan', 'feb', 'mar', 'apr', 'may', 'jun', 'jul', 'aug', 'sep', 'oct', 'nov', 'dec')\n"
          ],
          "name": "stdout"
        }
      ]
    },
    {
      "cell_type": "code",
      "metadata": {
        "id": "md4QialFDrQd"
      },
      "source": [
        "#dom[1]= \"abc\" #throws error"
      ],
      "execution_count": 21,
      "outputs": []
    },
    {
      "cell_type": "code",
      "metadata": {
        "colab": {
          "base_uri": "https://localhost:8080/"
        },
        "id": "tz_bK-YOEqJI",
        "outputId": "82e924bd-230c-4166-a207-9ad15de5f5c9"
      },
      "source": [
        "all(dom) #returns true if all are true"
      ],
      "execution_count": 22,
      "outputs": [
        {
          "output_type": "execute_result",
          "data": {
            "text/plain": [
              "True"
            ]
          },
          "metadata": {
            "tags": []
          },
          "execution_count": 22
        }
      ]
    },
    {
      "cell_type": "code",
      "metadata": {
        "colab": {
          "base_uri": "https://localhost:8080/"
        },
        "id": "oNbhcBHxE2Wp",
        "outputId": "0f7bab14-9fde-43dd-e5bc-21e2651f3ce5"
      },
      "source": [
        "any(dom)"
      ],
      "execution_count": 23,
      "outputs": [
        {
          "output_type": "execute_result",
          "data": {
            "text/plain": [
              "True"
            ]
          },
          "metadata": {
            "tags": []
          },
          "execution_count": 23
        }
      ]
    },
    {
      "cell_type": "code",
      "metadata": {
        "id": "Ku20SFjyE7G4"
      },
      "source": [
        "numbers = [1,2,3]\n",
        "t = ('a',numbers, {'a':1,'b':2},3,4)"
      ],
      "execution_count": 28,
      "outputs": []
    },
    {
      "cell_type": "code",
      "metadata": {
        "colab": {
          "base_uri": "https://localhost:8080/"
        },
        "id": "2Wasa2YOFKoW",
        "outputId": "6209aa8f-5d52-433f-b587-91a8c85cf6b8"
      },
      "source": [
        "print(t)"
      ],
      "execution_count": 29,
      "outputs": [
        {
          "output_type": "stream",
          "text": [
            "('a', [1, 2, 3], {'a': 1, 'b': 2}, 3, 4)\n"
          ],
          "name": "stdout"
        }
      ]
    },
    {
      "cell_type": "code",
      "metadata": {
        "colab": {
          "base_uri": "https://localhost:8080/"
        },
        "id": "phKxYujCFaTu",
        "outputId": "8461c5c3-c58c-4f78-8e16-bb78b3d67d18"
      },
      "source": [
        "t[2]['a']"
      ],
      "execution_count": 30,
      "outputs": [
        {
          "output_type": "execute_result",
          "data": {
            "text/plain": [
              "1"
            ]
          },
          "metadata": {
            "tags": []
          },
          "execution_count": 30
        }
      ]
    },
    {
      "cell_type": "code",
      "metadata": {
        "colab": {
          "base_uri": "https://localhost:8080/"
        },
        "id": "KJKwpk9FFraH",
        "outputId": "3e5a8fbb-4580-4ec3-fb89-3bcad44e2351"
      },
      "source": [
        "t[1]"
      ],
      "execution_count": 31,
      "outputs": [
        {
          "output_type": "execute_result",
          "data": {
            "text/plain": [
              "[1, 2, 3]"
            ]
          },
          "metadata": {
            "tags": []
          },
          "execution_count": 31
        }
      ]
    },
    {
      "cell_type": "code",
      "metadata": {
        "id": "dVTd7et5Ftos"
      },
      "source": [
        "t[1].append(4)"
      ],
      "execution_count": 32,
      "outputs": []
    },
    {
      "cell_type": "code",
      "metadata": {
        "colab": {
          "base_uri": "https://localhost:8080/"
        },
        "id": "SdEuq4XSFv9s",
        "outputId": "a9e3ec28-fd64-44f5-aae0-f3bc064daeb4"
      },
      "source": [
        "t[1]"
      ],
      "execution_count": 33,
      "outputs": [
        {
          "output_type": "execute_result",
          "data": {
            "text/plain": [
              "[1, 2, 3, 4]"
            ]
          },
          "metadata": {
            "tags": []
          },
          "execution_count": 33
        }
      ]
    },
    {
      "cell_type": "code",
      "metadata": {
        "colab": {
          "base_uri": "https://localhost:8080/"
        },
        "id": "xFLX_I20FxhB",
        "outputId": "0ba69a01-32c3-4510-f332-74d2c2d8c1b7"
      },
      "source": [
        "print(t)"
      ],
      "execution_count": 34,
      "outputs": [
        {
          "output_type": "stream",
          "text": [
            "('a', [1, 2, 3, 4], {'a': 1, 'b': 2}, 3, 4)\n"
          ],
          "name": "stdout"
        }
      ]
    },
    {
      "cell_type": "markdown",
      "metadata": {
        "id": "adpe0LFyF4JE"
      },
      "source": [
        "# Practice Programs"
      ]
    },
    {
      "cell_type": "code",
      "metadata": {
        "colab": {
          "base_uri": "https://localhost:8080/"
        },
        "id": "FM8tSP2_FzZM",
        "outputId": "63d6c8d4-030f-4051-fe07-e1f2e04a51d0"
      },
      "source": [
        "#WAP to demo use of tuples\n",
        "\n",
        "students = []\n",
        "def add_student():\n",
        "  tple = tuple(x for x in input(\"Enter student name rollno. and marks sep by space \").split())\n",
        "  students.append(tple)\n",
        "  #print(students)\n",
        "  print(\"Great, new student added!!\")\n",
        "\n",
        "def display():\n",
        "  #print(students)\n",
        "  for x in students:\n",
        "    print(\"Student Name = {:<8s} Student Rollno. = {:<5s} Student Marks ={:<10s}\".format(x[0],x[1],x[2]))\n",
        "\n",
        "def sorting():\n",
        "  students.sort(key=customSort)\n",
        "  print(f\"Sorted list is {students}\")\n",
        "\n",
        "def customSort(ele):\n",
        "  return ele[2]\n",
        "\n",
        "choice = 0\n",
        "while choice!=4:\n",
        "  print(\"1.Add Student\")\n",
        "  print(\"2.Display Students\")\n",
        "  print(\"3.Sort acc to marks\")\n",
        "  print(\"4.Exit\")\n",
        "  choice=int(input(\"Enter your choice: \"))\n",
        "  if choice == 1:\n",
        "    add_student()\n",
        "  elif choice == 2:\n",
        "    display()\n",
        "  elif choice == 3:\n",
        "    sorting()\n",
        "  else:\n",
        "    break\n",
        "\n"
      ],
      "execution_count": 42,
      "outputs": [
        {
          "output_type": "stream",
          "text": [
            "1.Add Student\n",
            "2.Display Students\n",
            "3.Sort acc to marks\n",
            "4.Exit\n",
            "Enter your choice: 1\n",
            "Enter student name rollno. and marks sep by space Neelam 66 98\n",
            "Great, new student added!!\n",
            "1.Add Student\n",
            "2.Display Students\n",
            "3.Sort acc to marks\n",
            "4.Exit\n",
            "Enter your choice: 1\n",
            "Enter student name rollno. and marks sep by space hitesh 89 99\n",
            "Great, new student added!!\n",
            "1.Add Student\n",
            "2.Display Students\n",
            "3.Sort acc to marks\n",
            "4.Exit\n",
            "Enter your choice: 1\n",
            "Enter student name rollno. and marks sep by space 29 Ronit 89\n",
            "Great, new student added!!\n",
            "1.Add Student\n",
            "2.Display Students\n",
            "3.Sort acc to marks\n",
            "4.Exit\n",
            "Enter your choice: 2\n",
            "Student Name = Neelam   Student Rollno. = 66    Student Marks =98        \n",
            "Student Name = hitesh   Student Rollno. = 89    Student Marks =99        \n",
            "Student Name = 29       Student Rollno. = Ronit Student Marks =89        \n",
            "1.Add Student\n",
            "2.Display Students\n",
            "3.Sort acc to marks\n",
            "4.Exit\n",
            "Enter your choice: 3\n",
            "Sorted list is [('29', 'Ronit', '89'), ('Neelam', '66', '98'), ('hitesh', '89', '99')]\n",
            "1.Add Student\n",
            "2.Display Students\n",
            "3.Sort acc to marks\n",
            "4.Exit\n",
            "Enter your choice: 4\n"
          ],
          "name": "stdout"
        }
      ]
    },
    {
      "cell_type": "code",
      "metadata": {
        "id": "7gD8qF5FIcyN"
      },
      "source": [
        ""
      ],
      "execution_count": null,
      "outputs": []
    }
  ]
}