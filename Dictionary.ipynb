{
  "nbformat": 4,
  "nbformat_minor": 0,
  "metadata": {
    "colab": {
      "name": "Dictionary.ipynb",
      "provenance": [],
      "authorship_tag": "ABX9TyMbGbyqX6Upz2bF8x4QeLRc",
      "include_colab_link": true
    },
    "kernelspec": {
      "name": "python3",
      "display_name": "Python 3"
    },
    "language_info": {
      "name": "python"
    }
  },
  "cells": [
    {
      "cell_type": "markdown",
      "metadata": {
        "id": "view-in-github",
        "colab_type": "text"
      },
      "source": [
        "<a href=\"https://colab.research.google.com/github/Neel12-coder/Python-Refresher-Course/blob/main/Dictionary.ipynb\" target=\"_parent\"><img src=\"https://colab.research.google.com/assets/colab-badge.svg\" alt=\"Open In Colab\"/></a>"
      ]
    },
    {
      "cell_type": "markdown",
      "metadata": {
        "id": "stmy--UDa1a1"
      },
      "source": [
        "# Dictionary\n",
        "\n",
        "key-value pairs"
      ]
    },
    {
      "cell_type": "markdown",
      "metadata": {
        "id": "_j5iTz5HbFB5"
      },
      "source": [
        "## Basic Dict Methods"
      ]
    },
    {
      "cell_type": "code",
      "metadata": {
        "colab": {
          "base_uri": "https://localhost:8080/"
        },
        "id": "sypdHtJwbIqD",
        "outputId": "41cee61a-607d-4c0f-a673-303a1ae89209"
      },
      "source": [
        "student = dict(x.split() for x in input().split(\",\"))\n",
        "print(student)"
      ],
      "execution_count": null,
      "outputs": [
        {
          "output_type": "stream",
          "text": [
            "1 neelam, 2 hitesh, 3 neel\n",
            "{'1': 'neelam', '2': 'hitesh', '3': 'neel'}\n"
          ],
          "name": "stdout"
        }
      ]
    },
    {
      "cell_type": "code",
      "metadata": {
        "colab": {
          "base_uri": "https://localhost:8080/"
        },
        "id": "9Ad0kvy2bWel",
        "outputId": "dfd5a286-24d6-4147-b552-27a3f08f0b9b"
      },
      "source": [
        "len(student)"
      ],
      "execution_count": null,
      "outputs": [
        {
          "output_type": "execute_result",
          "data": {
            "text/plain": [
              "3"
            ]
          },
          "metadata": {
            "tags": []
          },
          "execution_count": 4
        }
      ]
    },
    {
      "cell_type": "code",
      "metadata": {
        "id": "2U6V8pTbbrI9"
      },
      "source": [
        "student['3']= \"gaurav\""
      ],
      "execution_count": null,
      "outputs": []
    },
    {
      "cell_type": "code",
      "metadata": {
        "colab": {
          "base_uri": "https://localhost:8080/"
        },
        "id": "qcCJPUi6bxh2",
        "outputId": "ebe2407d-fb3c-4baf-9247-98c6451fbc13"
      },
      "source": [
        "print(student)"
      ],
      "execution_count": null,
      "outputs": [
        {
          "output_type": "stream",
          "text": [
            "{'1': 'neelam', '2': 'hitesh', '3': 'gaurav'}\n"
          ],
          "name": "stdout"
        }
      ]
    },
    {
      "cell_type": "code",
      "metadata": {
        "id": "TjSq1QpHbzPu"
      },
      "source": [
        "del student['3']"
      ],
      "execution_count": null,
      "outputs": []
    },
    {
      "cell_type": "code",
      "metadata": {
        "colab": {
          "base_uri": "https://localhost:8080/"
        },
        "id": "x0Wab5sib8qM",
        "outputId": "f5cc3f98-3acc-4e32-f016-53d29e9f50e8"
      },
      "source": [
        "print(student)"
      ],
      "execution_count": null,
      "outputs": [
        {
          "output_type": "stream",
          "text": [
            "{'1': 'neelam', '2': 'hitesh'}\n"
          ],
          "name": "stdout"
        }
      ]
    },
    {
      "cell_type": "code",
      "metadata": {
        "id": "Vlu3RmfDb-61"
      },
      "source": [
        "if '1' in student:\n",
        "  student['1'] = \"neel\""
      ],
      "execution_count": null,
      "outputs": []
    },
    {
      "cell_type": "code",
      "metadata": {
        "colab": {
          "base_uri": "https://localhost:8080/"
        },
        "id": "-v6eU8uBe9LW",
        "outputId": "a2934807-4ad9-4644-aa94-583aaf518fac"
      },
      "source": [
        "print(student)"
      ],
      "execution_count": null,
      "outputs": [
        {
          "output_type": "stream",
          "text": [
            "{'1': 'neel', '2': 'hitesh'}\n"
          ],
          "name": "stdout"
        }
      ]
    },
    {
      "cell_type": "code",
      "metadata": {
        "colab": {
          "base_uri": "https://localhost:8080/"
        },
        "id": "QLcMVN-_fEu0",
        "outputId": "35235337-8eb8-4286-a592-0b1ad21afdd1"
      },
      "source": [
        "#printing\n",
        "\n",
        "for x,y in student.items():\n",
        "  print(\"Roll no = {} Name = {}\".format(x,y))"
      ],
      "execution_count": null,
      "outputs": [
        {
          "output_type": "stream",
          "text": [
            "Roll no = 1 Name = neel\n",
            "Roll no = 2 Name = hitesh\n"
          ],
          "name": "stdout"
        }
      ]
    },
    {
      "cell_type": "markdown",
      "metadata": {
        "id": "Avd9NPmkfWK7"
      },
      "source": [
        "# Dictionary Methods\n"
      ]
    },
    {
      "cell_type": "code",
      "metadata": {
        "id": "aV2alIPzfRlv"
      },
      "source": [
        "a = dict.fromkeys([1,2,3],\"abc\")"
      ],
      "execution_count": null,
      "outputs": []
    },
    {
      "cell_type": "code",
      "metadata": {
        "colab": {
          "base_uri": "https://localhost:8080/"
        },
        "id": "kXwgXFQ8fstv",
        "outputId": "08cc1221-acdb-48f3-fb1e-336c2aaed87a"
      },
      "source": [
        "print(a)"
      ],
      "execution_count": null,
      "outputs": [
        {
          "output_type": "stream",
          "text": [
            "{1: 'abc', 2: 'abc', 3: 'abc'}\n"
          ],
          "name": "stdout"
        }
      ]
    },
    {
      "cell_type": "code",
      "metadata": {
        "colab": {
          "base_uri": "https://localhost:8080/",
          "height": 35
        },
        "id": "ik-n2MFxfuey",
        "outputId": "11eef7d7-5abe-479d-d0b9-79cfa5057a10"
      },
      "source": [
        "a.get(4,\"ghi\")"
      ],
      "execution_count": null,
      "outputs": [
        {
          "output_type": "execute_result",
          "data": {
            "application/vnd.google.colaboratory.intrinsic+json": {
              "type": "string"
            },
            "text/plain": [
              "'ghi'"
            ]
          },
          "metadata": {
            "tags": []
          },
          "execution_count": 16
        }
      ]
    },
    {
      "cell_type": "code",
      "metadata": {
        "colab": {
          "base_uri": "https://localhost:8080/",
          "height": 35
        },
        "id": "NSP_bLNJgYG-",
        "outputId": "8b02a6b7-546d-464b-9ed1-4fed3d08e83a"
      },
      "source": [
        "a.get(3)"
      ],
      "execution_count": null,
      "outputs": [
        {
          "output_type": "execute_result",
          "data": {
            "application/vnd.google.colaboratory.intrinsic+json": {
              "type": "string"
            },
            "text/plain": [
              "'abc'"
            ]
          },
          "metadata": {
            "tags": []
          },
          "execution_count": 17
        }
      ]
    },
    {
      "cell_type": "code",
      "metadata": {
        "colab": {
          "base_uri": "https://localhost:8080/"
        },
        "id": "Ay6hD3zaghRH",
        "outputId": "b8d50e27-ad29-486b-812d-87ac7bced014"
      },
      "source": [
        "a.items()"
      ],
      "execution_count": null,
      "outputs": [
        {
          "output_type": "execute_result",
          "data": {
            "text/plain": [
              "dict_items([(1, 'abc'), (2, 'abc'), (3, 'abc')])"
            ]
          },
          "metadata": {
            "tags": []
          },
          "execution_count": 19
        }
      ]
    },
    {
      "cell_type": "code",
      "metadata": {
        "colab": {
          "base_uri": "https://localhost:8080/"
        },
        "id": "LHTm0emRglTP",
        "outputId": "571f829d-3d47-4e10-fbf7-8ab6f3bd6cf1"
      },
      "source": [
        "a.keys()"
      ],
      "execution_count": null,
      "outputs": [
        {
          "output_type": "execute_result",
          "data": {
            "text/plain": [
              "dict_keys([1, 2, 3])"
            ]
          },
          "metadata": {
            "tags": []
          },
          "execution_count": 21
        }
      ]
    },
    {
      "cell_type": "code",
      "metadata": {
        "colab": {
          "base_uri": "https://localhost:8080/"
        },
        "id": "-VifkS8kgtsH",
        "outputId": "c6aa03d0-44b4-4519-a2d1-ee95c0a0d111"
      },
      "source": [
        "a.values()"
      ],
      "execution_count": null,
      "outputs": [
        {
          "output_type": "execute_result",
          "data": {
            "text/plain": [
              "dict_values(['abc', 'abc', 'abc'])"
            ]
          },
          "metadata": {
            "tags": []
          },
          "execution_count": 22
        }
      ]
    },
    {
      "cell_type": "code",
      "metadata": {
        "colab": {
          "base_uri": "https://localhost:8080/"
        },
        "id": "ZIQN8uJRgzi-",
        "outputId": "bd799958-4a09-449c-8315-60df083c2598"
      },
      "source": [
        "a.popitem()"
      ],
      "execution_count": null,
      "outputs": [
        {
          "output_type": "execute_result",
          "data": {
            "text/plain": [
              "(3, 'abc')"
            ]
          },
          "metadata": {
            "tags": []
          },
          "execution_count": 23
        }
      ]
    },
    {
      "cell_type": "code",
      "metadata": {
        "colab": {
          "base_uri": "https://localhost:8080/",
          "height": 35
        },
        "id": "_GUJYSECg3lZ",
        "outputId": "2d00a14e-c274-43c9-b9d4-65c64ec02501"
      },
      "source": [
        "a.setdefault(1,\"jkl\")"
      ],
      "execution_count": null,
      "outputs": [
        {
          "output_type": "execute_result",
          "data": {
            "application/vnd.google.colaboratory.intrinsic+json": {
              "type": "string"
            },
            "text/plain": [
              "'abc'"
            ]
          },
          "metadata": {
            "tags": []
          },
          "execution_count": 24
        }
      ]
    },
    {
      "cell_type": "code",
      "metadata": {
        "colab": {
          "base_uri": "https://localhost:8080/",
          "height": 35
        },
        "id": "5RDxlbFPioBX",
        "outputId": "93424cb4-4289-4e36-8ec0-bdab6f503907"
      },
      "source": [
        "a.pop(1,'njk')"
      ],
      "execution_count": null,
      "outputs": [
        {
          "output_type": "execute_result",
          "data": {
            "application/vnd.google.colaboratory.intrinsic+json": {
              "type": "string"
            },
            "text/plain": [
              "'abc'"
            ]
          },
          "metadata": {
            "tags": []
          },
          "execution_count": 25
        }
      ]
    },
    {
      "cell_type": "code",
      "metadata": {
        "id": "2wRJ14oqirwY"
      },
      "source": [
        "dict2 ={4:\"bhj\"}"
      ],
      "execution_count": null,
      "outputs": []
    },
    {
      "cell_type": "code",
      "metadata": {
        "id": "C6pevXXcivlp"
      },
      "source": [
        "a.update(dict2)"
      ],
      "execution_count": null,
      "outputs": []
    },
    {
      "cell_type": "code",
      "metadata": {
        "colab": {
          "base_uri": "https://localhost:8080/"
        },
        "id": "RXNNQQdlixlI",
        "outputId": "82f94bd8-b564-4c48-c63a-9fe1c6be6ce5"
      },
      "source": [
        "a"
      ],
      "execution_count": null,
      "outputs": [
        {
          "output_type": "execute_result",
          "data": {
            "text/plain": [
              "{2: 'abc', 4: 'bhj'}"
            ]
          },
          "metadata": {
            "tags": []
          },
          "execution_count": 28
        }
      ]
    },
    {
      "cell_type": "code",
      "metadata": {
        "colab": {
          "base_uri": "https://localhost:8080/"
        },
        "id": "yjJjxTV2iykK",
        "outputId": "fcf05107-5395-4c46-8ccb-203f5284af8a"
      },
      "source": [
        "lst1 = [2,3,4,5]\n",
        "lst2 = ['a','b','c','d']\n",
        "res = zip(lst1,lst2)\n",
        "dicti = dict(res)\n",
        "\n",
        "print(dicti)"
      ],
      "execution_count": null,
      "outputs": [
        {
          "output_type": "stream",
          "text": [
            "{2: 'a', 3: 'b', 4: 'c', 5: 'd'}\n"
          ],
          "name": "stdout"
        }
      ]
    },
    {
      "cell_type": "markdown",
      "metadata": {
        "id": "fcj2QBiBkACe"
      },
      "source": [
        "# Practice Program\n"
      ]
    },
    {
      "cell_type": "code",
      "metadata": {
        "id": "3O97LKzNjyHZ",
        "colab": {
          "base_uri": "https://localhost:8080/"
        },
        "outputId": "89c65fbd-38be-4dc4-9ec8-1b418fa04c05"
      },
      "source": [
        "#WAP to display no.s from 1 to n , and their squares using dict\n",
        "\n",
        "n = int(input(\"Enter n\"))\n",
        "lst = [int(x) for x in range(1,n+1)]\n",
        "dicti={}\n",
        "for x in lst:\n",
        "  dicti[x] = x**2\n",
        "\n",
        "for x,y in dicti.items():\n",
        "  print(\"key->{} value->{}\".format(x,y),end=\"||\")"
      ],
      "execution_count": 7,
      "outputs": [
        {
          "output_type": "stream",
          "text": [
            "Enter n10\n",
            "key->1 value->1||key->2 value->4||key->3 value->9||key->4 value->16||key->5 value->25||key->6 value->36||key->7 value->49||key->8 value->64||key->9 value->81||key->10 value->100||"
          ],
          "name": "stdout"
        }
      ]
    },
    {
      "cell_type": "code",
      "metadata": {
        "colab": {
          "base_uri": "https://localhost:8080/"
        },
        "id": "SOfurz5hyNXM",
        "outputId": "271686dc-8a36-45ff-8e84-30b6716bc9e0"
      },
      "source": [
        "#WAP to accept students name and marks and sort it acc to marks\n",
        "\n",
        "def customSort(ele):\n",
        "  value = lst[ele]\n",
        "  return(int(value))\n",
        "lst = dict([x.split() for x in input(\"Enter student names and marks out of 100 \").split(\",\")])\n",
        "print(lst)\n",
        "a =sorted(lst,key=customSort,reverse=True)\n",
        "print(a)\n"
      ],
      "execution_count": 10,
      "outputs": [
        {
          "output_type": "stream",
          "text": [
            "Enter student names and marks out of 100 neelam 99, nitesh 98, hitesh 100, nick 89\n",
            "{'neelam': '99', 'nitesh': '98', 'hitesh': '100', 'nick': '89'}\n",
            "['hitesh', 'neelam', 'nitesh', 'nick']\n"
          ],
          "name": "stdout"
        }
      ]
    },
    {
      "cell_type": "code",
      "metadata": {
        "colab": {
          "base_uri": "https://localhost:8080/"
        },
        "id": "gYj9DfzY1Vob",
        "outputId": "301dcee8-d96b-416a-83ad-693741c71c34"
      },
      "source": [
        "#WAP to print all anagrams from the list\n",
        "\n",
        "lst =['ate','tea','eta','war','raw','this','foo']\n",
        "dictn={}\n",
        "for x in lst:\n",
        "  key = \"\".join(sorted(i for i in x))\n",
        "  temp = dictn.get(key)\n",
        "  if temp==None:\n",
        "    dictn[key]=[x]\n",
        "  else:\n",
        "    dictn[key].append(x)\n",
        "\n",
        "pairs= list(dictn.values())\n",
        "\n",
        "for x in pairs:\n",
        "  if len(x)>0:\n",
        "    print(x)\n",
        "  else:\n",
        "    pass"
      ],
      "execution_count": 13,
      "outputs": [
        {
          "output_type": "stream",
          "text": [
            "['ate', 'tea', 'eta']\n",
            "['war', 'raw']\n",
            "['this']\n",
            "['foo']\n"
          ],
          "name": "stdout"
        }
      ]
    },
    {
      "cell_type": "code",
      "metadata": {
        "id": "oyXFQwT740H-"
      },
      "source": [
        ""
      ],
      "execution_count": null,
      "outputs": []
    }
  ]
}