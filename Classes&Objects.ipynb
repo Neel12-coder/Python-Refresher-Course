{
  "nbformat": 4,
  "nbformat_minor": 0,
  "metadata": {
    "colab": {
      "name": "Classes&Objects.ipynb",
      "provenance": [],
      "authorship_tag": "ABX9TyO9h5tQwFuHfiRdA+Fj9Snf",
      "include_colab_link": true
    },
    "kernelspec": {
      "name": "python3",
      "display_name": "Python 3"
    },
    "language_info": {
      "name": "python"
    }
  },
  "cells": [
    {
      "cell_type": "markdown",
      "metadata": {
        "id": "view-in-github",
        "colab_type": "text"
      },
      "source": [
        "<a href=\"https://colab.research.google.com/github/Neel12-coder/Python-Refresher-Course/blob/main/Classes%26Objects.ipynb\" target=\"_parent\"><img src=\"https://colab.research.google.com/assets/colab-badge.svg\" alt=\"Open In Colab\"/></a>"
      ]
    },
    {
      "cell_type": "markdown",
      "metadata": {
        "id": "oQ3BvzyN3PZt"
      },
      "source": [
        "#Classes & Objects"
      ]
    },
    {
      "cell_type": "code",
      "metadata": {
        "colab": {
          "base_uri": "https://localhost:8080/"
        },
        "id": "WxRWiEqM3Uhu",
        "outputId": "1add7d43-fcd9-4e8f-82b2-e55800cdedcf"
      },
      "source": [
        "class Student():\n",
        "  no_of_stu = 0\n",
        "  grace_marks = 8\n",
        "  def __init__(self,name,rno,marks):\n",
        "    self.name = name\n",
        "    self.rno = rno\n",
        "    self.marks = marks\n",
        "    Student.no_of_stu+=1\n",
        "\n",
        "  def updateMarks(self,extra_marks):\n",
        "    self.marks +=extra_marks\n",
        "\n",
        "  def applyGrace(self):\n",
        "    self.marks+=self.grace_marks\n",
        "\n",
        "  def __str__(self):\n",
        "    return f\"Name of the student is {self.name} having roll no. {self.rno} and marks {self.marks}\"\n",
        "\n",
        "  @classmethod\n",
        "  def graceMarks(cls,marks):\n",
        "    cls.grace_marks = marks\n",
        "\n",
        "  @classmethod\n",
        "  def from_string(cls,stu):\n",
        "    name,rno,marks = stu.split(\"-\")\n",
        "    return cls(name,int(rno),int(marks))\n",
        "\n",
        "#create objects\n",
        "s1 = Student(\"Neelam\",66,90)\n",
        "s2 = Student.from_string(\"Neel-70-88\")\n",
        "\n",
        "print(s1)\n",
        "print(s2)\n",
        "\n",
        "s2.updateMarks(3)\n",
        "print(s2)\n",
        "\n",
        "Student.graceMarks(5)\n",
        "s1.applyGrace()\n",
        "print(s1)\n",
        "\n",
        "\n",
        "\n"
      ],
      "execution_count": 1,
      "outputs": [
        {
          "output_type": "stream",
          "text": [
            "Name of the student is Neelam having roll no. 66 and marks 90\n",
            "Name of the student is Neel having roll no. 70 and marks 88\n",
            "Name of the student is Neel having roll no. 70 and marks 91\n",
            "Name of the student is Neelam having roll no. 66 and marks 95\n"
          ],
          "name": "stdout"
        }
      ]
    },
    {
      "cell_type": "markdown",
      "metadata": {
        "id": "3Cwz5TFS69Vb"
      },
      "source": [
        "#Modifying Class Variable"
      ]
    },
    {
      "cell_type": "code",
      "metadata": {
        "colab": {
          "base_uri": "https://localhost:8080/"
        },
        "id": "hkKFdu5n7CXj",
        "outputId": "fe2ced81-deba-4dbb-98cc-a31dece6de90"
      },
      "source": [
        "class foo():\n",
        "  b = 12\n",
        "  def __init__(self,name):\n",
        "    self.name = name\n",
        "\n",
        "f1 = foo(\"neelam\")\n",
        "f2 = foo(\"hitesh\")\n",
        "print(foo.b) #12\n",
        "foo.b+=1\n",
        "print(f1.b) #13\n",
        "print(f2.b) #13\n",
        "f1.b +=2\n",
        "print(foo.b)#13\n",
        "print(f1.b) #15\n",
        "print(f2.b) #13\n",
        "foo.b+=3\n",
        "print(foo.b) #16\n",
        "print(f1.b)  #15\n",
        "print(f2.b)  #16\n",
        "f2.b +=4\n",
        "print(foo.b) #16\n",
        "print(f1.b) #15\n",
        "print(f2.b)  #20\n",
        "\n"
      ],
      "execution_count": 2,
      "outputs": [
        {
          "output_type": "stream",
          "text": [
            "12\n",
            "13\n",
            "13\n",
            "13\n",
            "15\n",
            "13\n",
            "16\n",
            "15\n",
            "16\n",
            "16\n",
            "15\n",
            "20\n"
          ],
          "name": "stdout"
        }
      ]
    },
    {
      "cell_type": "markdown",
      "metadata": {
        "id": "dBS40iAo9e8l"
      },
      "source": [
        "# Stactic Methods\n",
        "## No default parameters\n",
        "## cannot access class or instance var"
      ]
    },
    {
      "cell_type": "code",
      "metadata": {
        "colab": {
          "base_uri": "https://localhost:8080/"
        },
        "id": "5ygX56909eB-",
        "outputId": "4ddb1fcc-9912-44f1-ac7b-bee1587278af"
      },
      "source": [
        "class Student():\n",
        "  no_of_stu = 0\n",
        "  grace_marks = 8\n",
        "  def __init__(self,name,rno,marks):\n",
        "    self.name = name\n",
        "    self.rno = rno\n",
        "    if(self.isValid(marks)):\n",
        "      self.marks = marks\n",
        "    Student.no_of_stu+=1\n",
        "\n",
        "  def updateMarks(self,extra_marks):\n",
        "    self.marks +=extra_marks\n",
        "\n",
        "  def applyGrace(self):\n",
        "    self.marks+=self.grace_marks\n",
        "\n",
        "  def __str__(self):\n",
        "    return f\"Name of the student is {self.name} having roll no. {self.rno} and marks {self.marks}\"\n",
        "\n",
        "  @classmethod\n",
        "  def graceMarks(cls,marks):\n",
        "    cls.grace_marks = marks\n",
        "\n",
        "  @classmethod\n",
        "  def from_string(cls,stu):\n",
        "    name,rno,marks = stu.split(\"-\")\n",
        "    return cls(name,int(rno),int(marks))\n",
        "\n",
        "  @staticmethod\n",
        "  def isValid(marks):\n",
        "    if (str(marks).isdigit()==True or type(marks) is int):\n",
        "      if int(marks)>0:\n",
        "        return True\n",
        "    return False\n",
        "\n",
        "\n",
        "\n",
        "\n",
        "#create objects\n",
        "s1 = Student(\"Neelam\",66,90)\n",
        "s2 = Student.from_string(\"Neel-70-88\")\n",
        "\n",
        "print(s1)\n",
        "print(s2)\n",
        "\n",
        "s2.updateMarks(3)\n",
        "print(s2)\n",
        "\n",
        "Student.graceMarks(5)\n",
        "s1.applyGrace()\n",
        "print(s1)\n",
        "\n",
        "print(Student.no_of_stu)\n",
        "\n",
        "\n",
        "\n"
      ],
      "execution_count": 4,
      "outputs": [
        {
          "output_type": "stream",
          "text": [
            "Name of the student is Neelam having roll no. 66 and marks 90\n",
            "Name of the student is Neel having roll no. 70 and marks 88\n",
            "Name of the student is Neel having roll no. 70 and marks 91\n",
            "Name of the student is Neelam having roll no. 66 and marks 95\n",
            "2\n"
          ],
          "name": "stdout"
        }
      ]
    },
    {
      "cell_type": "markdown",
      "metadata": {
        "id": "gbM_zW5YAXs8"
      },
      "source": [
        "#Conclusion:- Instance variables accessed using self and declared under init, Class var can be accessed using self or cls and declared outside method and occupy single space\n",
        "Stactic methods are helper methods"
      ]
    },
    {
      "cell_type": "code",
      "metadata": {
        "colab": {
          "base_uri": "https://localhost:8080/"
        },
        "id": "V_MZt8Z2BDuq",
        "outputId": "a60e5d17-368d-45f8-acdd-bf5ea882548d"
      },
      "source": [
        "class Student():\n",
        "  def __init__(self,name,rno,marks):\n",
        "    self.name = name\n",
        "    self.rno = rno\n",
        "    self.marks = marks\n",
        "\n",
        "  def set_att(self,att):\n",
        "    self.attendance = att\n",
        "\n",
        "s1 = Student(\"Neelam\",66,89)\n",
        "s2 = Student(\"Yash\",36,88)\n",
        "s1.set_att(65)\n",
        "print(s1.__dict__)\n",
        "print(s2.__dict__)"
      ],
      "execution_count": 6,
      "outputs": [
        {
          "output_type": "stream",
          "text": [
            "{'name': 'Neelam', 'rno': 66, 'marks': 89, 'attendance': 65}\n",
            "{'name': 'Yash', 'rno': 36, 'marks': 88}\n"
          ],
          "name": "stdout"
        }
      ]
    },
    {
      "cell_type": "markdown",
      "metadata": {
        "id": "P6NXwci8ABmJ"
      },
      "source": [
        "## Python does not support method overloading. We may overload the methods but can only use the latest defined method."
      ]
    },
    {
      "cell_type": "code",
      "metadata": {
        "colab": {
          "base_uri": "https://localhost:8080/"
        },
        "id": "BBGU95f69bo2",
        "outputId": "09e808dd-f5ef-48f0-c7bd-dd666b592186"
      },
      "source": [
        "class Student():\n",
        "  def __init__(self,name,rno,dd,mm,yy):\n",
        "    self.name = name\n",
        "    self.rno = rno\n",
        "    self.dob = self.Date(dd,mm,yy)\n",
        "\n",
        "  class Date:\n",
        "    def __init__(self,dd,mm,yy):\n",
        "        self.dd = dd\n",
        "        self.mm = mm\n",
        "        self.yy = yy\n",
        "    \n",
        "  def __str__(self):\n",
        "      return f\"Name->{self.name} and date of birth={self.dob.dd}/{self.dob.mm}/{self.dob.yy}\"\n",
        "\n",
        "  def __gt__(self,other):\n",
        "    is_greater = False\n",
        "    if (self.dob.yy > other.dob.yy):\n",
        "        is_greater = True\n",
        "    elif (self.dob.yy == other.dob.yy):\n",
        "        if (self.dob.mm > other.dob.mm):\n",
        "           is_greater = True\n",
        "    elif (self.dob.yy == other.dob.yy):\n",
        "        if (self.dob.mm == other.dob.mm):\n",
        "          if (self.dob.dd > other.dob.dd):\n",
        "             is_greater = True\n",
        "    return is_greater\n",
        "\n",
        "s = Student(\"Neelam\",66,6,5,1999)\n",
        "s1 = Student(\"jotika\",55,10,4,1999)\n",
        "if s>s1:\n",
        "  print(f\"{s.name} is elder than {s1.name}\")\n",
        "\n",
        "print(s)\n",
        "print(s1)\n",
        "\n",
        "\n",
        "\n",
        "    "
      ],
      "execution_count": 16,
      "outputs": [
        {
          "output_type": "stream",
          "text": [
            "Neelam is elder than jotika\n",
            "Name->Neelam and date of birth=6/5/1999\n",
            "Name->jotika and date of birth=10/4/1999\n"
          ],
          "name": "stdout"
        }
      ]
    },
    {
      "cell_type": "code",
      "metadata": {
        "id": "tdOHtTXu7txR"
      },
      "source": [
        ""
      ],
      "execution_count": null,
      "outputs": []
    }
  ]
}