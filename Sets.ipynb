{
  "nbformat": 4,
  "nbformat_minor": 0,
  "metadata": {
    "colab": {
      "name": "Sets.ipynb",
      "provenance": [],
      "authorship_tag": "ABX9TyNa4H6Y/qLXZRs6t7o0SGyi",
      "include_colab_link": true
    },
    "kernelspec": {
      "name": "python3",
      "display_name": "Python 3"
    },
    "language_info": {
      "name": "python"
    }
  },
  "cells": [
    {
      "cell_type": "markdown",
      "metadata": {
        "id": "view-in-github",
        "colab_type": "text"
      },
      "source": [
        "<a href=\"https://colab.research.google.com/github/Neel12-coder/Python-Refresher-Course/blob/main/Sets.ipynb\" target=\"_parent\"><img src=\"https://colab.research.google.com/assets/colab-badge.svg\" alt=\"Open In Colab\"/></a>"
      ]
    },
    {
      "cell_type": "markdown",
      "metadata": {
        "id": "uCJbOOQJVvde"
      },
      "source": [
        "#Sets \n",
        "A set is an unordered collection of immutable data objects embedded inside a mutable and iterable collection of unique elements which uses hasing.\n"
      ]
    },
    {
      "cell_type": "code",
      "metadata": {
        "id": "J9_rUyMXWMAn"
      },
      "source": [
        "s = set([1,2,3])"
      ],
      "execution_count": 4,
      "outputs": []
    },
    {
      "cell_type": "code",
      "metadata": {
        "colab": {
          "base_uri": "https://localhost:8080/"
        },
        "id": "LJVcORoVWPj6",
        "outputId": "0d7ac563-0816-4cd9-c4e9-70bb25df7c80"
      },
      "source": [
        "print(s)"
      ],
      "execution_count": 5,
      "outputs": [
        {
          "output_type": "stream",
          "text": [
            "{1, 2, 3}\n"
          ],
          "name": "stdout"
        }
      ]
    },
    {
      "cell_type": "code",
      "metadata": {
        "colab": {
          "base_uri": "https://localhost:8080/"
        },
        "id": "16cLDoAVWRHk",
        "outputId": "a9f9604c-c9af-4dc0-aa5d-2f2df35e729a"
      },
      "source": [
        "#set operations\n",
        "set1 = {1,2,3,4,9,4}\n",
        "set2 = {7,8,9,0}\n",
        "print(set1)"
      ],
      "execution_count": 6,
      "outputs": [
        {
          "output_type": "stream",
          "text": [
            "{1, 2, 3, 4, 9}\n"
          ],
          "name": "stdout"
        }
      ]
    },
    {
      "cell_type": "code",
      "metadata": {
        "id": "d_fKUUSkWnmb"
      },
      "source": [
        "set1.add(5)"
      ],
      "execution_count": 7,
      "outputs": []
    },
    {
      "cell_type": "code",
      "metadata": {
        "colab": {
          "base_uri": "https://localhost:8080/"
        },
        "id": "EFsMau8CWrTj",
        "outputId": "92d7ca4c-216c-4090-db1a-7be54a530066"
      },
      "source": [
        "print(set1)"
      ],
      "execution_count": 8,
      "outputs": [
        {
          "output_type": "stream",
          "text": [
            "{1, 2, 3, 4, 5, 9}\n"
          ],
          "name": "stdout"
        }
      ]
    },
    {
      "cell_type": "code",
      "metadata": {
        "id": "8eOVFtcQWtJi"
      },
      "source": [
        "set1.remove(4)"
      ],
      "execution_count": 9,
      "outputs": []
    },
    {
      "cell_type": "code",
      "metadata": {
        "colab": {
          "base_uri": "https://localhost:8080/"
        },
        "id": "q7tiRNTqWwOX",
        "outputId": "71ef55d2-4ddb-4daa-c17b-e2022dc57eb7"
      },
      "source": [
        "print(set1)"
      ],
      "execution_count": 10,
      "outputs": [
        {
          "output_type": "stream",
          "text": [
            "{1, 2, 3, 5, 9}\n"
          ],
          "name": "stdout"
        }
      ]
    },
    {
      "cell_type": "code",
      "metadata": {
        "id": "_qVTyn7mWyPF"
      },
      "source": [
        "set1.discard(4)"
      ],
      "execution_count": 11,
      "outputs": []
    },
    {
      "cell_type": "code",
      "metadata": {
        "colab": {
          "base_uri": "https://localhost:8080/"
        },
        "id": "XAGOETDTW236",
        "outputId": "a80aaa42-80d9-40e5-b129-44a774e6584e"
      },
      "source": [
        "print(set1)"
      ],
      "execution_count": 12,
      "outputs": [
        {
          "output_type": "stream",
          "text": [
            "{1, 2, 3, 5, 9}\n"
          ],
          "name": "stdout"
        }
      ]
    },
    {
      "cell_type": "code",
      "metadata": {
        "colab": {
          "base_uri": "https://localhost:8080/"
        },
        "id": "r9as0DRnW4Wp",
        "outputId": "533aa0f0-af26-4b8b-e9c8-6ceee8a88cc6"
      },
      "source": [
        "set1.pop()"
      ],
      "execution_count": 13,
      "outputs": [
        {
          "output_type": "execute_result",
          "data": {
            "text/plain": [
              "1"
            ]
          },
          "metadata": {
            "tags": []
          },
          "execution_count": 13
        }
      ]
    },
    {
      "cell_type": "code",
      "metadata": {
        "colab": {
          "base_uri": "https://localhost:8080/"
        },
        "id": "V6iEdRrnW__1",
        "outputId": "d1641836-4b80-4a53-c580-1bd02d5410a2"
      },
      "source": [
        "set1"
      ],
      "execution_count": 14,
      "outputs": [
        {
          "output_type": "execute_result",
          "data": {
            "text/plain": [
              "{2, 3, 5, 9}"
            ]
          },
          "metadata": {
            "tags": []
          },
          "execution_count": 14
        }
      ]
    },
    {
      "cell_type": "code",
      "metadata": {
        "id": "-wtzW2zQXBoK"
      },
      "source": [
        "#union of two sets\n",
        "set1.update(set2)"
      ],
      "execution_count": 15,
      "outputs": []
    },
    {
      "cell_type": "code",
      "metadata": {
        "colab": {
          "base_uri": "https://localhost:8080/"
        },
        "id": "bP4zaBXtXHRB",
        "outputId": "4dbc7c1d-216d-43d2-bc0c-2b25e9dbe86e"
      },
      "source": [
        "print(set1)"
      ],
      "execution_count": 16,
      "outputs": [
        {
          "output_type": "stream",
          "text": [
            "{0, 2, 3, 5, 7, 8, 9}\n"
          ],
          "name": "stdout"
        }
      ]
    },
    {
      "cell_type": "code",
      "metadata": {
        "colab": {
          "base_uri": "https://localhost:8080/"
        },
        "id": "Pdj5RYQLXJVQ",
        "outputId": "edba55b9-fa00-47cd-a9a4-a957612517bb"
      },
      "source": [
        "set1.union(set2)"
      ],
      "execution_count": 18,
      "outputs": [
        {
          "output_type": "execute_result",
          "data": {
            "text/plain": [
              "{0, 2, 3, 5, 7, 8, 9}"
            ]
          },
          "metadata": {
            "tags": []
          },
          "execution_count": 18
        }
      ]
    },
    {
      "cell_type": "code",
      "metadata": {
        "colab": {
          "base_uri": "https://localhost:8080/"
        },
        "id": "XduPwV9QXNeV",
        "outputId": "b4df8ba0-4e2a-4153-b0ed-4db708856752"
      },
      "source": [
        "set1.difference(set2)"
      ],
      "execution_count": 19,
      "outputs": [
        {
          "output_type": "execute_result",
          "data": {
            "text/plain": [
              "{2, 3, 5}"
            ]
          },
          "metadata": {
            "tags": []
          },
          "execution_count": 19
        }
      ]
    },
    {
      "cell_type": "code",
      "metadata": {
        "colab": {
          "base_uri": "https://localhost:8080/"
        },
        "id": "bsX2K1diXU-f",
        "outputId": "78e67528-9349-4bfd-b10f-d489f1c8d0f3"
      },
      "source": [
        "set1.intersection(set2)"
      ],
      "execution_count": 20,
      "outputs": [
        {
          "output_type": "execute_result",
          "data": {
            "text/plain": [
              "{0, 7, 8, 9}"
            ]
          },
          "metadata": {
            "tags": []
          },
          "execution_count": 20
        }
      ]
    },
    {
      "cell_type": "code",
      "metadata": {
        "colab": {
          "base_uri": "https://localhost:8080/"
        },
        "id": "0a9iG2nzXcFU",
        "outputId": "08aa64b5-f9d9-4016-9d24-8479772e0816"
      },
      "source": [
        "set1.isdisjoint(set2)"
      ],
      "execution_count": 21,
      "outputs": [
        {
          "output_type": "execute_result",
          "data": {
            "text/plain": [
              "False"
            ]
          },
          "metadata": {
            "tags": []
          },
          "execution_count": 21
        }
      ]
    },
    {
      "cell_type": "code",
      "metadata": {
        "colab": {
          "base_uri": "https://localhost:8080/"
        },
        "id": "Pc_sEBTjXhWj",
        "outputId": "1d4902ec-0ac3-44de-ab26-1bb6cf9f332b"
      },
      "source": [
        "set1.issubset(set2)"
      ],
      "execution_count": 22,
      "outputs": [
        {
          "output_type": "execute_result",
          "data": {
            "text/plain": [
              "False"
            ]
          },
          "metadata": {
            "tags": []
          },
          "execution_count": 22
        }
      ]
    },
    {
      "cell_type": "code",
      "metadata": {
        "colab": {
          "base_uri": "https://localhost:8080/"
        },
        "id": "gsR5GZwDXlNO",
        "outputId": "9a8838bf-f62d-41a7-a79d-6dc76b6835d1"
      },
      "source": [
        "set1.issuperset(set2)"
      ],
      "execution_count": 23,
      "outputs": [
        {
          "output_type": "execute_result",
          "data": {
            "text/plain": [
              "True"
            ]
          },
          "metadata": {
            "tags": []
          },
          "execution_count": 23
        }
      ]
    },
    {
      "cell_type": "code",
      "metadata": {
        "colab": {
          "base_uri": "https://localhost:8080/"
        },
        "id": "1htuNkRnXoiK",
        "outputId": "5d36e615-c6c9-47d1-f259-68649db5c0ee"
      },
      "source": [
        "set1.symmetric_difference(set2)"
      ],
      "execution_count": 24,
      "outputs": [
        {
          "output_type": "execute_result",
          "data": {
            "text/plain": [
              "{2, 3, 5}"
            ]
          },
          "metadata": {
            "tags": []
          },
          "execution_count": 24
        }
      ]
    },
    {
      "cell_type": "code",
      "metadata": {
        "id": "GQa-_o_yXtkA"
      },
      "source": [
        "set1.difference_update(set2)"
      ],
      "execution_count": 25,
      "outputs": []
    },
    {
      "cell_type": "code",
      "metadata": {
        "colab": {
          "base_uri": "https://localhost:8080/"
        },
        "id": "BZi8R7lCX4gY",
        "outputId": "f38c58f7-de27-450a-9e85-1131be794b7c"
      },
      "source": [
        "print(set1)"
      ],
      "execution_count": 26,
      "outputs": [
        {
          "output_type": "stream",
          "text": [
            "{2, 3, 5}\n"
          ],
          "name": "stdout"
        }
      ]
    },
    {
      "cell_type": "code",
      "metadata": {
        "colab": {
          "base_uri": "https://localhost:8080/"
        },
        "id": "6nkTluiJX6RA",
        "outputId": "8dd571f2-19ff-415f-fb89-c54d8bbe7bcb"
      },
      "source": [
        "set1"
      ],
      "execution_count": 27,
      "outputs": [
        {
          "output_type": "execute_result",
          "data": {
            "text/plain": [
              "{2, 3, 5}"
            ]
          },
          "metadata": {
            "tags": []
          },
          "execution_count": 27
        }
      ]
    },
    {
      "cell_type": "code",
      "metadata": {
        "id": "FX9L7YX3X8RP"
      },
      "source": [
        "s = sorted(set1)"
      ],
      "execution_count": 28,
      "outputs": []
    },
    {
      "cell_type": "code",
      "metadata": {
        "colab": {
          "base_uri": "https://localhost:8080/"
        },
        "id": "Icw_M0dAYNNa",
        "outputId": "279bb40b-e331-4ed9-d0bd-284ff80b7c28"
      },
      "source": [
        "s"
      ],
      "execution_count": 29,
      "outputs": [
        {
          "output_type": "execute_result",
          "data": {
            "text/plain": [
              "[2, 3, 5]"
            ]
          },
          "metadata": {
            "tags": []
          },
          "execution_count": 29
        }
      ]
    },
    {
      "cell_type": "markdown",
      "metadata": {
        "id": "gh0DSKREYUEu"
      },
      "source": [
        "#Practice Program"
      ]
    },
    {
      "cell_type": "code",
      "metadata": {
        "colab": {
          "base_uri": "https://localhost:8080/"
        },
        "id": "S-ofj0_AYOYq",
        "outputId": "315c43ea-61fd-4743-dbfc-58284df51da2"
      },
      "source": [
        "#WAP to perform set operations\n",
        "\n",
        "set1 = set([x for x in input().split()])\n",
        "set2 = set([x for x in input().split()])\n",
        "\n",
        "interset = set1.intersection(set2)\n",
        "print(\"Intersection of two sets is : \",interset)\n",
        "\n",
        "union = set1 | set2\n",
        "print(\"union of two sets is : \",union)\n",
        "\n",
        "diff = set1.difference(set2)\n",
        "print(\"Elemenst unique to set1 are :\",diff)\n",
        "\n",
        "sydiff = set1.symmetric_difference(set2)\n",
        "print(\"Elements which are unique to both : \",sydiff)"
      ],
      "execution_count": 31,
      "outputs": [
        {
          "output_type": "stream",
          "text": [
            "1 2 3 4 5\n",
            "6 7 8 9 0\n",
            "Intersection of two sets is :  set()\n",
            "union of two sets is :  {'1', '4', '5', '0', '9', '8', '3', '7', '2', '6'}\n",
            "Elemenst unique to set1 are : {'1', '4', '5', '3', '2'}\n",
            "Elements which are unique to both :  {'4', '0', '9', '3', '7', '6', '1', '5', '8', '2'}\n"
          ],
          "name": "stdout"
        }
      ]
    },
    {
      "cell_type": "code",
      "metadata": {
        "id": "u708zWAHaNIc"
      },
      "source": [
        ""
      ],
      "execution_count": null,
      "outputs": []
    }
  ]
}