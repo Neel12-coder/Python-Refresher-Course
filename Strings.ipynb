{
  "nbformat": 4,
  "nbformat_minor": 0,
  "metadata": {
    "colab": {
      "name": "Strings.ipynb",
      "provenance": [],
      "authorship_tag": "ABX9TyMWnW0iuKaNTxyFLCKnnSaC",
      "include_colab_link": true
    },
    "kernelspec": {
      "name": "python3",
      "display_name": "Python 3"
    },
    "language_info": {
      "name": "python"
    }
  },
  "cells": [
    {
      "cell_type": "markdown",
      "metadata": {
        "id": "view-in-github",
        "colab_type": "text"
      },
      "source": [
        "<a href=\"https://colab.research.google.com/github/Neel12-coder/Python-Refresher-Course/blob/main/Strings.ipynb\" target=\"_parent\"><img src=\"https://colab.research.google.com/assets/colab-badge.svg\" alt=\"Open In Colab\"/></a>"
      ]
    },
    {
      "cell_type": "markdown",
      "metadata": {
        "id": "Nkj6-SRlcaM4"
      },
      "source": [
        "#String Indexing"
      ]
    },
    {
      "cell_type": "code",
      "metadata": {
        "colab": {
          "base_uri": "https://localhost:8080/"
        },
        "id": "F-USCanA1b2R",
        "outputId": "07b70e71-689a-40e5-cd20-51964eef325f"
      },
      "source": [
        "s = \"My name is Neelam\"\n",
        "print(s[::-1])\n",
        "print(s[1:15])\n",
        "print(s[-8:-1])\n",
        "print(s[-9:-1:1])\n",
        "print(s[-1:8:-1])"
      ],
      "execution_count": null,
      "outputs": [
        {
          "output_type": "stream",
          "text": [
            "maleeN si eman yM\n",
            "y name is Neel\n",
            "s Neela\n",
            "is Neela\n",
            "maleeN s\n"
          ],
          "name": "stdout"
        }
      ]
    },
    {
      "cell_type": "markdown",
      "metadata": {
        "id": "f7Zqv_JM34X8"
      },
      "source": [
        "#String Membership"
      ]
    },
    {
      "cell_type": "code",
      "metadata": {
        "colab": {
          "base_uri": "https://localhost:8080/"
        },
        "id": "7khqsl9M2Wgv",
        "outputId": "07009aac-8fd7-4058-912a-ef679be955db"
      },
      "source": [
        "st = \"Neel\"\n",
        "if st in s:\n",
        "  print(\"Its there\")\n",
        "\n",
        "if st not in s:\n",
        "  print(\"its not there\")\n",
        "else:\n",
        "  print(\"yeah, its there\")"
      ],
      "execution_count": null,
      "outputs": [
        {
          "output_type": "stream",
          "text": [
            "Its there\n",
            "yeah, its there\n"
          ],
          "name": "stdout"
        }
      ]
    },
    {
      "cell_type": "markdown",
      "metadata": {
        "id": "15E2Excr4-oB"
      },
      "source": [
        "#String Operations"
      ]
    },
    {
      "cell_type": "code",
      "metadata": {
        "colab": {
          "base_uri": "https://localhost:8080/"
        },
        "id": "K76mGPaS42zw",
        "outputId": "d05f9475-8398-40f5-f579-f2ffa78567ac"
      },
      "source": [
        "cap_string = s.capitalize()\n",
        "print(\"Capitalized String {} \".format(cap_string))"
      ],
      "execution_count": null,
      "outputs": [
        {
          "output_type": "stream",
          "text": [
            "Capitalized String My name is neelam \n"
          ],
          "name": "stdout"
        }
      ]
    },
    {
      "cell_type": "code",
      "metadata": {
        "colab": {
          "base_uri": "https://localhost:8080/"
        },
        "id": "qwSHsVsG5Z95",
        "outputId": "1e49269b-c1a7-4eb3-97a9-d12134689478"
      },
      "source": [
        "print(s.count('e'))"
      ],
      "execution_count": null,
      "outputs": [
        {
          "output_type": "stream",
          "text": [
            "3\n"
          ],
          "name": "stdout"
        }
      ]
    },
    {
      "cell_type": "code",
      "metadata": {
        "colab": {
          "base_uri": "https://localhost:8080/"
        },
        "id": "jY7uZFnz50ju",
        "outputId": "035cce29-11ec-4f90-fd59-982a97385fd6"
      },
      "source": [
        "print(len(s))"
      ],
      "execution_count": null,
      "outputs": [
        {
          "output_type": "stream",
          "text": [
            "17\n"
          ],
          "name": "stdout"
        }
      ]
    },
    {
      "cell_type": "code",
      "metadata": {
        "colab": {
          "base_uri": "https://localhost:8080/"
        },
        "id": "RhszrpTp6Htk",
        "outputId": "c74eb4bd-b9a6-4f14-82ad-eee56cfdcc3f"
      },
      "source": [
        "print(s.index('s'))"
      ],
      "execution_count": null,
      "outputs": [
        {
          "output_type": "stream",
          "text": [
            "9\n"
          ],
          "name": "stdout"
        }
      ]
    },
    {
      "cell_type": "code",
      "metadata": {
        "colab": {
          "base_uri": "https://localhost:8080/"
        },
        "id": "v_aDQljh6Sqc",
        "outputId": "deb79982-6872-42a5-91ed-f364cf462e8f"
      },
      "source": [
        "print(s.endswith('a'))"
      ],
      "execution_count": null,
      "outputs": [
        {
          "output_type": "stream",
          "text": [
            "False\n"
          ],
          "name": "stdout"
        }
      ]
    },
    {
      "cell_type": "code",
      "metadata": {
        "colab": {
          "base_uri": "https://localhost:8080/"
        },
        "id": "r-XcM_aJ6mhA",
        "outputId": "81c6dffe-d940-4a7d-c303-6cee65a1b9d8"
      },
      "source": [
        "print(s.find('is'))"
      ],
      "execution_count": null,
      "outputs": [
        {
          "output_type": "stream",
          "text": [
            "8\n"
          ],
          "name": "stdout"
        }
      ]
    },
    {
      "cell_type": "code",
      "metadata": {
        "colab": {
          "base_uri": "https://localhost:8080/"
        },
        "id": "rJ01UBHb6u7h",
        "outputId": "f404cec7-d137-4370-b74f-1ead947f821e"
      },
      "source": [
        "print(s.isalnum())"
      ],
      "execution_count": null,
      "outputs": [
        {
          "output_type": "stream",
          "text": [
            "False\n"
          ],
          "name": "stdout"
        }
      ]
    },
    {
      "cell_type": "code",
      "metadata": {
        "colab": {
          "base_uri": "https://localhost:8080/"
        },
        "id": "04bnK3ZY61kb",
        "outputId": "7a2fc6ac-e840-47c0-9831-016502284359"
      },
      "source": [
        "print(s.isdigit())"
      ],
      "execution_count": null,
      "outputs": [
        {
          "output_type": "stream",
          "text": [
            "False\n"
          ],
          "name": "stdout"
        }
      ]
    },
    {
      "cell_type": "code",
      "metadata": {
        "colab": {
          "base_uri": "https://localhost:8080/"
        },
        "id": "oW-zN4Ig64K_",
        "outputId": "b50e6963-f6de-4021-9767-7eac416c8203"
      },
      "source": [
        "print(s.upper())"
      ],
      "execution_count": null,
      "outputs": [
        {
          "output_type": "stream",
          "text": [
            "MY NAME IS NEELAM\n"
          ],
          "name": "stdout"
        }
      ]
    },
    {
      "cell_type": "code",
      "metadata": {
        "colab": {
          "base_uri": "https://localhost:8080/"
        },
        "id": "9kKfv1Dl69UA",
        "outputId": "24ff9474-e864-48fd-8f96-9a00822ba1c6"
      },
      "source": [
        "print(s.lower())"
      ],
      "execution_count": null,
      "outputs": [
        {
          "output_type": "stream",
          "text": [
            "my name is neelam\n"
          ],
          "name": "stdout"
        }
      ]
    },
    {
      "cell_type": "code",
      "metadata": {
        "colab": {
          "base_uri": "https://localhost:8080/"
        },
        "id": "cb9D3jHH7K3y",
        "outputId": "60d93107-97fe-4a60-c352-b0d43708dad0"
      },
      "source": [
        "a = '12'\n",
        "b = '2**3'\n",
        "c = '3/4'\n",
        "\n",
        "print(a.isdecimal())\n",
        "print(a.isdigit())\n",
        "print(a.isnumeric())"
      ],
      "execution_count": null,
      "outputs": [
        {
          "output_type": "stream",
          "text": [
            "True\n",
            "True\n",
            "True\n"
          ],
          "name": "stdout"
        }
      ]
    },
    {
      "cell_type": "code",
      "metadata": {
        "colab": {
          "base_uri": "https://localhost:8080/"
        },
        "id": "IaXIzHgA71Q0",
        "outputId": "77366646-713f-455d-945d-7c98ce703f04"
      },
      "source": [
        "print(b.isdecimal())\n",
        "print(b.isdigit())\n",
        "print(b.isnumeric())"
      ],
      "execution_count": null,
      "outputs": [
        {
          "output_type": "stream",
          "text": [
            "False\n",
            "False\n",
            "False\n"
          ],
          "name": "stdout"
        }
      ]
    },
    {
      "cell_type": "code",
      "metadata": {
        "colab": {
          "base_uri": "https://localhost:8080/"
        },
        "id": "qf9mVO2TArlu",
        "outputId": "0c5732b7-f130-49d0-ff3a-fcf59f931af3"
      },
      "source": [
        "print(c.isdecimal())\n",
        "print(c.isdigit())\n",
        "print(c.isnumeric())"
      ],
      "execution_count": null,
      "outputs": [
        {
          "output_type": "stream",
          "text": [
            "False\n",
            "False\n",
            "False\n"
          ],
          "name": "stdout"
        }
      ]
    },
    {
      "cell_type": "code",
      "metadata": {
        "colab": {
          "base_uri": "https://localhost:8080/"
        },
        "id": "i-BnX6BaBBGR",
        "outputId": "412a65a8-fef7-4c7d-b963-fb57992e4fc5"
      },
      "source": [
        "print(s.replace('Neelam','Natasha'))"
      ],
      "execution_count": null,
      "outputs": [
        {
          "output_type": "stream",
          "text": [
            "My name is Natasha\n"
          ],
          "name": "stdout"
        }
      ]
    },
    {
      "cell_type": "code",
      "metadata": {
        "colab": {
          "base_uri": "https://localhost:8080/"
        },
        "id": "AmjMAhJ1BQLi",
        "outputId": "f0e36e68-8d4c-4ccb-dcf2-5f678bf1c87d"
      },
      "source": [
        "print(s.lstrip(\"My\"))\n",
        "print(s)"
      ],
      "execution_count": null,
      "outputs": [
        {
          "output_type": "stream",
          "text": [
            " name is Neelam\n",
            "My name is Neelam\n"
          ],
          "name": "stdout"
        }
      ]
    },
    {
      "cell_type": "code",
      "metadata": {
        "colab": {
          "base_uri": "https://localhost:8080/"
        },
        "id": "_GaVf0nqBYQT",
        "outputId": "e31fca5f-210e-4f4d-f50e-fc67fe4b4aba"
      },
      "source": [
        "print(s.strip(\"My\"))"
      ],
      "execution_count": null,
      "outputs": [
        {
          "output_type": "stream",
          "text": [
            " name is Neelam\n"
          ],
          "name": "stdout"
        }
      ]
    },
    {
      "cell_type": "code",
      "metadata": {
        "colab": {
          "base_uri": "https://localhost:8080/"
        },
        "id": "caUUIoagBcjb",
        "outputId": "6781ca39-5380-4db5-d9b0-14aa7ef89547"
      },
      "source": [
        "print(s.title())"
      ],
      "execution_count": null,
      "outputs": [
        {
          "output_type": "stream",
          "text": [
            "My Name Is Neelam\n"
          ],
          "name": "stdout"
        }
      ]
    },
    {
      "cell_type": "code",
      "metadata": {
        "id": "KgW8r9umByjg",
        "colab": {
          "base_uri": "https://localhost:8080/"
        },
        "outputId": "95052471-2350-4ba1-8264-a3333b834f4c"
      },
      "source": [
        "st = \"Hey good morning dear\"\n",
        "print(sorted(st.lower()))"
      ],
      "execution_count": 8,
      "outputs": [
        {
          "output_type": "stream",
          "text": [
            "[' ', ' ', ' ', 'a', 'd', 'd', 'e', 'e', 'g', 'g', 'h', 'i', 'm', 'n', 'n', 'o', 'o', 'o', 'r', 'r', 'y']\n"
          ],
          "name": "stdout"
        }
      ]
    },
    {
      "cell_type": "code",
      "metadata": {
        "colab": {
          "base_uri": "https://localhost:8080/"
        },
        "id": "YeRq4_8bqZ1D",
        "outputId": "9813456d-c71a-46ea-cd6a-eef0f5737caf"
      },
      "source": [
        "print(sorted(st.lower(), reverse= True))"
      ],
      "execution_count": 9,
      "outputs": [
        {
          "output_type": "stream",
          "text": [
            "['y', 'r', 'r', 'o', 'o', 'o', 'n', 'n', 'm', 'i', 'h', 'g', 'g', 'e', 'e', 'd', 'd', 'a', ' ', ' ', ' ']\n"
          ],
          "name": "stdout"
        }
      ]
    },
    {
      "cell_type": "code",
      "metadata": {
        "colab": {
          "base_uri": "https://localhost:8080/"
        },
        "id": "r9E8iIqrqerr",
        "outputId": "b19db847-3f08-4f39-fa94-525e6f0ec9e4"
      },
      "source": [
        "print(st.find(\"e\"))"
      ],
      "execution_count": 10,
      "outputs": [
        {
          "output_type": "stream",
          "text": [
            "1\n"
          ],
          "name": "stdout"
        }
      ]
    },
    {
      "cell_type": "code",
      "metadata": {
        "colab": {
          "base_uri": "https://localhost:8080/"
        },
        "id": "WlS7dMuNrA8m",
        "outputId": "8777a52a-940b-4f64-8b9a-30e35eeec032"
      },
      "source": [
        "print(st.rfind(\"e\")) #search from right side"
      ],
      "execution_count": 11,
      "outputs": [
        {
          "output_type": "stream",
          "text": [
            "18\n"
          ],
          "name": "stdout"
        }
      ]
    },
    {
      "cell_type": "markdown",
      "metadata": {
        "id": "VJmliXIWuZBl"
      },
      "source": [
        "#practice programs"
      ]
    },
    {
      "cell_type": "code",
      "metadata": {
        "colab": {
          "base_uri": "https://localhost:8080/"
        },
        "id": "UMYFvAlIrEvI",
        "outputId": "38f9f54d-d734-4608-d12c-e434afd6136c"
      },
      "source": [
        "#WAP to count number of vowels, consonents, numbers and special characters\n",
        "def Counter(inp):\n",
        "  vowels = ['a','e','i','o','u']\n",
        "  inp = inp.lower()\n",
        "  v=c=n=s=0\n",
        "  for i in inp:\n",
        "    if(i.isalpha()):\n",
        "      if i in vowels:\n",
        "        v+=1\n",
        "      else:\n",
        "        c+=1\n",
        "    elif(i.isdigit()):\n",
        "      n+=1\n",
        "    else:\n",
        "      s+=1\n",
        "  return(v,c,n,s)\n",
        "\n",
        "inp = input(\"enter a string: \")\n",
        "vowels,consonants,numbers,special_ch = Counter(inp)\n",
        "print(f\"Therefore number of vowels= {vowels} , consonants = {consonants}, numbers= {numbers} and special characters= {special_ch}\")\n"
      ],
      "execution_count": 13,
      "outputs": [
        {
          "output_type": "stream",
          "text": [
            "enter a string: mcdonalds$no1\n",
            "Therefore number of vowels= 3 , consonants = 8, numbers= 1 and special characters= 1\n"
          ],
          "name": "stdout"
        }
      ]
    },
    {
      "cell_type": "code",
      "metadata": {
        "id": "JaNlVwjpt7Yw"
      },
      "source": [
        ""
      ],
      "execution_count": null,
      "outputs": []
    }
  ]
}