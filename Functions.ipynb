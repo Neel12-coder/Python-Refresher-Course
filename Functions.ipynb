{
  "nbformat": 4,
  "nbformat_minor": 0,
  "metadata": {
    "colab": {
      "name": "Functions.ipynb",
      "provenance": [],
      "authorship_tag": "ABX9TyMoRRT7LI01z/r3SPl7LZz+",
      "include_colab_link": true
    },
    "kernelspec": {
      "name": "python3",
      "display_name": "Python 3"
    },
    "language_info": {
      "name": "python"
    }
  },
  "cells": [
    {
      "cell_type": "markdown",
      "metadata": {
        "id": "view-in-github",
        "colab_type": "text"
      },
      "source": [
        "<a href=\"https://colab.research.google.com/github/Neel12-coder/Python-Refresher-Course/blob/main/Functions.ipynb\" target=\"_parent\"><img src=\"https://colab.research.google.com/assets/colab-badge.svg\" alt=\"Open In Colab\"/></a>"
      ]
    },
    {
      "cell_type": "markdown",
      "metadata": {
        "id": "DpH_Jccd5SXJ"
      },
      "source": [
        "#Functions\n",
        "in python functions are considered as objects"
      ]
    },
    {
      "cell_type": "markdown",
      "metadata": {
        "id": "rHMBEKi27oMV"
      },
      "source": [
        "##Varble lenghth arguments"
      ]
    },
    {
      "cell_type": "code",
      "metadata": {
        "colab": {
          "base_uri": "https://localhost:8080/"
        },
        "id": "oe0g0Uqk6YCQ",
        "outputId": "433130c6-3e9c-4fd2-8e67-6f6f18652ae7"
      },
      "source": [
        "def add(*args, b =5):#default values always towards end\n",
        "  sum = 0\n",
        "  for x in args:\n",
        "    sum+=x\n",
        "  sum+=b\n",
        "  return sum\n",
        "\n",
        "print(add(10,10,20,10,10))"
      ],
      "execution_count": 5,
      "outputs": [
        {
          "output_type": "stream",
          "text": [
            "65\n"
          ],
          "name": "stdout"
        }
      ]
    },
    {
      "cell_type": "code",
      "metadata": {
        "colab": {
          "base_uri": "https://localhost:8080/"
        },
        "id": "t5VbXCny76cW",
        "outputId": "b4ee2241-4f98-4fed-816e-634999f565d1"
      },
      "source": [
        "def display(**kwargs):\n",
        "  for x,y in kwargs.items():\n",
        "    print(x,y,sep=\"=\")\n",
        "\n",
        "display(name=\"The Sparks Foundation\",salary=\"30000$\",turnover=\"200000$\")"
      ],
      "execution_count": 7,
      "outputs": [
        {
          "output_type": "stream",
          "text": [
            "name=The Sparks Foundation\n",
            "salary=30000$\n",
            "turnover=200000$\n"
          ],
          "name": "stdout"
        }
      ]
    },
    {
      "cell_type": "markdown",
      "metadata": {
        "id": "dakb6BHz9jBt"
      },
      "source": [
        "#Anonymous Functions\n",
        "\n",
        "lambda operator is used to create small anonymous functions i.e functions without name --> also called as throwaway functions"
      ]
    },
    {
      "cell_type": "code",
      "metadata": {
        "colab": {
          "base_uri": "https://localhost:8080/"
        },
        "id": "sGshQ-hI98nD",
        "outputId": "d2ae06de-8d0e-4654-f018-2b7f0e6f2180"
      },
      "source": [
        "f = lambda x,y: x+y\n",
        "print(f(2,1))"
      ],
      "execution_count": 8,
      "outputs": [
        {
          "output_type": "stream",
          "text": [
            "3\n"
          ],
          "name": "stdout"
        }
      ]
    },
    {
      "cell_type": "code",
      "metadata": {
        "colab": {
          "base_uri": "https://localhost:8080/"
        },
        "id": "VIWYVLlJ9Y0n",
        "outputId": "8d9af572-8953-4e05-b0f2-2961a5508217"
      },
      "source": [
        "#MAP Function -> changes quality not quantity\n",
        "\n",
        "lst = [0,1,2,3,4]\n",
        "new = map(lambda x:x**2,lst)\n",
        "print(list(new))"
      ],
      "execution_count": 13,
      "outputs": [
        {
          "output_type": "stream",
          "text": [
            "[0, 1, 4, 9, 16]\n"
          ],
          "name": "stdout"
        }
      ]
    },
    {
      "cell_type": "code",
      "metadata": {
        "colab": {
          "base_uri": "https://localhost:8080/"
        },
        "id": "CLS7ZuEP-dQk",
        "outputId": "da80d804-1e11-4e7d-eaf0-8e23a3853641"
      },
      "source": [
        "#FILTER --> changes quantity not quality, True or False\n",
        "\n",
        "lst = [1,2,3,4,5,6,7,8,9]\n",
        "res = filter(lambda x:x%2==0,lst)\n",
        "print(list(res))"
      ],
      "execution_count": 14,
      "outputs": [
        {
          "output_type": "stream",
          "text": [
            "[2, 4, 6, 8]\n"
          ],
          "name": "stdout"
        }
      ]
    },
    {
      "cell_type": "code",
      "metadata": {
        "id": "q63oi3zu_Prq"
      },
      "source": [
        "from functools import reduce"
      ],
      "execution_count": 15,
      "outputs": []
    },
    {
      "cell_type": "code",
      "metadata": {
        "colab": {
          "base_uri": "https://localhost:8080/"
        },
        "id": "LWx93275_T27",
        "outputId": "8013d405-089b-4ae5-cadb-2756c3d8ccad"
      },
      "source": [
        "red = reduce(lambda x,y: x+y, lst)\n",
        "print(red)"
      ],
      "execution_count": 17,
      "outputs": [
        {
          "output_type": "stream",
          "text": [
            "45\n"
          ],
          "name": "stdout"
        }
      ]
    },
    {
      "cell_type": "markdown",
      "metadata": {
        "id": "6kLBeLg6Pehi"
      },
      "source": [
        "#Practice Program"
      ]
    },
    {
      "cell_type": "code",
      "metadata": {
        "colab": {
          "base_uri": "https://localhost:8080/"
        },
        "id": "emX_58hX_bvZ",
        "outputId": "18ef11e7-f39c-4dd9-b778-3c6a406fee2d"
      },
      "source": [
        "#WAp for map, reduce and filter\n",
        "from functools import reduce\n",
        "\n",
        "lst1 = ['abc','bcd','EFD','KLm']\n",
        "op = map (lambda x:x.lower(),lst1)\n",
        "res = reduce(lambda x,y:x+y,op)\n",
        "print(res)\n"
      ],
      "execution_count": 2,
      "outputs": [
        {
          "output_type": "stream",
          "text": [
            "abcbcdefdklm\n"
          ],
          "name": "stdout"
        }
      ]
    },
    {
      "cell_type": "code",
      "metadata": {
        "colab": {
          "base_uri": "https://localhost:8080/"
        },
        "id": "hKey7KwAOv2v",
        "outputId": "62ab1adb-cd32-493c-fcaf-a330763834ce"
      },
      "source": [
        "lst2 =['abcd','ab','fgd','thit','opert']\n",
        "re = filter(lambda x:len(x)>2,lst2)\n",
        "print(list(re))"
      ],
      "execution_count": 3,
      "outputs": [
        {
          "output_type": "stream",
          "text": [
            "['abcd', 'fgd', 'thit', 'opert']\n"
          ],
          "name": "stdout"
        }
      ]
    },
    {
      "cell_type": "code",
      "metadata": {
        "id": "Bk7mg2hwPbGx"
      },
      "source": [
        ""
      ],
      "execution_count": null,
      "outputs": []
    }
  ]
}